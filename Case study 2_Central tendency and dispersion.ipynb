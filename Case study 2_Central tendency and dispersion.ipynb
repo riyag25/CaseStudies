{
 "cells": [
  {
   "cell_type": "markdown",
   "id": "62d07973",
   "metadata": {},
   "source": [
    "## Case study 2: Overview\n",
    "\n",
    "An Institution wishes to find out their student’s ability in maths, reading and\n",
    "writing skills. The Institution wants to do an exploratory study to check the\n",
    "following information.\n",
    "1. Find out how many males and females participated in the test.\n",
    "2. What do you think about the students' parental level of education?\n",
    "3. Who scores the most on average for math, reading and writing based on\n",
    "● Gender\n",
    "● Test preparation course\n",
    "4. What do you think about the scoring variation for math, reading and writing\n",
    "based on\n",
    "● Gender\n",
    "● Test preparation course\n",
    "5. The management needs your help to give bonus points to the top 25% of\n",
    "students based on their maths score, so how will you help the management\n",
    "to achieve this.\n"
   ]
  },
  {
   "cell_type": "code",
   "execution_count": 1,
   "id": "a872a8cb",
   "metadata": {},
   "outputs": [],
   "source": [
    "# import libraries\n",
    "import numpy as np\n",
    "import pandas as pd\n",
    "import matplotlib.pyplot as plt\n",
    "import seaborn as sns"
   ]
  },
  {
   "cell_type": "code",
   "execution_count": 2,
   "id": "6d0fba8d",
   "metadata": {},
   "outputs": [],
   "source": [
    "# load dataset\n",
    "df = pd.read_csv(r\"C:\\Users\\zacha\\OneDrive\\Desktop\\ictak\\DSA\\case studyassignment\\StudentsPerformance.csv\")"
   ]
  },
  {
   "cell_type": "code",
   "execution_count": 3,
   "id": "1c8be1d8",
   "metadata": {},
   "outputs": [
    {
     "data": {
      "text/html": [
       "<div>\n",
       "<style scoped>\n",
       "    .dataframe tbody tr th:only-of-type {\n",
       "        vertical-align: middle;\n",
       "    }\n",
       "\n",
       "    .dataframe tbody tr th {\n",
       "        vertical-align: top;\n",
       "    }\n",
       "\n",
       "    .dataframe thead th {\n",
       "        text-align: right;\n",
       "    }\n",
       "</style>\n",
       "<table border=\"1\" class=\"dataframe\">\n",
       "  <thead>\n",
       "    <tr style=\"text-align: right;\">\n",
       "      <th></th>\n",
       "      <th>gender</th>\n",
       "      <th>race/ethnicity</th>\n",
       "      <th>parental level of education</th>\n",
       "      <th>lunch</th>\n",
       "      <th>test preparation course</th>\n",
       "      <th>math score</th>\n",
       "      <th>reading score</th>\n",
       "      <th>writing score</th>\n",
       "    </tr>\n",
       "  </thead>\n",
       "  <tbody>\n",
       "    <tr>\n",
       "      <th>0</th>\n",
       "      <td>female</td>\n",
       "      <td>group C</td>\n",
       "      <td>some high school</td>\n",
       "      <td>free/reduced</td>\n",
       "      <td>none</td>\n",
       "      <td>0</td>\n",
       "      <td>17</td>\n",
       "      <td>10</td>\n",
       "    </tr>\n",
       "    <tr>\n",
       "      <th>1</th>\n",
       "      <td>female</td>\n",
       "      <td>group B</td>\n",
       "      <td>high school</td>\n",
       "      <td>free/reduced</td>\n",
       "      <td>none</td>\n",
       "      <td>8</td>\n",
       "      <td>24</td>\n",
       "      <td>23</td>\n",
       "    </tr>\n",
       "    <tr>\n",
       "      <th>2</th>\n",
       "      <td>female</td>\n",
       "      <td>group B</td>\n",
       "      <td>some high school</td>\n",
       "      <td>free/reduced</td>\n",
       "      <td>none</td>\n",
       "      <td>18</td>\n",
       "      <td>32</td>\n",
       "      <td>28</td>\n",
       "    </tr>\n",
       "    <tr>\n",
       "      <th>3</th>\n",
       "      <td>female</td>\n",
       "      <td>group B</td>\n",
       "      <td>some college</td>\n",
       "      <td>standard</td>\n",
       "      <td>none</td>\n",
       "      <td>11</td>\n",
       "      <td>38</td>\n",
       "      <td>32</td>\n",
       "    </tr>\n",
       "    <tr>\n",
       "      <th>4</th>\n",
       "      <td>female</td>\n",
       "      <td>group C</td>\n",
       "      <td>some college</td>\n",
       "      <td>free/reduced</td>\n",
       "      <td>none</td>\n",
       "      <td>22</td>\n",
       "      <td>39</td>\n",
       "      <td>33</td>\n",
       "    </tr>\n",
       "  </tbody>\n",
       "</table>\n",
       "</div>"
      ],
      "text/plain": [
       "   gender race/ethnicity parental level of education         lunch  \\\n",
       "0  female        group C            some high school  free/reduced   \n",
       "1  female        group B                 high school  free/reduced   \n",
       "2  female        group B            some high school  free/reduced   \n",
       "3  female        group B                some college      standard   \n",
       "4  female        group C                some college  free/reduced   \n",
       "\n",
       "  test preparation course  math score  reading score  writing score  \n",
       "0                    none           0             17             10  \n",
       "1                    none           8             24             23  \n",
       "2                    none          18             32             28  \n",
       "3                    none          11             38             32  \n",
       "4                    none          22             39             33  "
      ]
     },
     "execution_count": 3,
     "metadata": {},
     "output_type": "execute_result"
    }
   ],
   "source": [
    "df.head()"
   ]
  },
  {
   "cell_type": "markdown",
   "id": "e41ecf4b",
   "metadata": {},
   "source": [
    "## 1.Find out how many males and females participated in the test."
   ]
  },
  {
   "cell_type": "code",
   "execution_count": 4,
   "id": "d4a5d3ef",
   "metadata": {},
   "outputs": [
    {
     "data": {
      "text/plain": [
       "female    518\n",
       "male      482\n",
       "Name: gender, dtype: int64"
      ]
     },
     "execution_count": 4,
     "metadata": {},
     "output_type": "execute_result"
    }
   ],
   "source": [
    "  df['gender'].value_counts()"
   ]
  },
  {
   "cell_type": "markdown",
   "id": "cc5bd046",
   "metadata": {},
   "source": [
    "***\n",
    "518 females and 482 males participated in the test\n",
    "***"
   ]
  },
  {
   "cell_type": "markdown",
   "id": "c8363750",
   "metadata": {},
   "source": [
    "## 2.What do you think about the students' parental level of education?"
   ]
  },
  {
   "cell_type": "code",
   "execution_count": 5,
   "id": "92384a1e",
   "metadata": {},
   "outputs": [
    {
     "data": {
      "text/plain": [
       "some college          22.6\n",
       "associate's degree    22.2\n",
       "high school           19.6\n",
       "some high school      17.9\n",
       "bachelor's degree     11.8\n",
       "master's degree        5.9\n",
       "Name: parental level of education, dtype: float64"
      ]
     },
     "execution_count": 5,
     "metadata": {},
     "output_type": "execute_result"
    }
   ],
   "source": [
    "# treated high school  and some high school as different category\n",
    "#(some high school interpreted as those who attanded high school but didnt complete)\n",
    "df['parental level of education'].value_counts(normalize=True)*100     "
   ]
  },
  {
   "cell_type": "code",
   "execution_count": 6,
   "id": "7f8a78f0",
   "metadata": {},
   "outputs": [
    {
     "data": {
      "text/plain": [
       "<AxesSubplot:>"
      ]
     },
     "execution_count": 6,
     "metadata": {},
     "output_type": "execute_result"
    },
    {
     "data": {
      "image/png": "[encoded data removed]",
      "text/plain": [
       "<Figure size 864x288 with 1 Axes>"
      ]
     },
     "metadata": {
      "needs_background": "light"
     },
     "output_type": "display_data"
    }
   ],
   "source": [
    "plt.figure(figsize = (12,4))\n",
    "df['parental level of education'].hist()\n"
   ]
  },
  {
   "cell_type": "markdown",
   "id": "fea9e5fe",
   "metadata": {},
   "source": [
    "*** \n",
    "*Most of the students' parental level of education falls in the following categories.*\n",
    "* some college:          22.6%\n",
    "* associate's degree:    22.2%\n",
    "* high school:           19.6%\n",
    "* some high school:      17.9%\n",
    "\n",
    "*Very few parents have education in the following category.*\n",
    " \n",
    "* bachelor's degree:     11.8%\n",
    "* master's degree:        5.9%\n",
    "***"
   ]
  },
  {
   "cell_type": "markdown",
   "id": "eb013c1e",
   "metadata": {},
   "source": [
    "## 3.Who scores the most on average for math, reading and writing based on ● Gender ● Test preparation course"
   ]
  },
  {
   "cell_type": "code",
   "execution_count": 7,
   "id": "0d82ae26",
   "metadata": {},
   "outputs": [],
   "source": [
    "#create a new column for average score\n",
    "df['avg'] = (df['math score']+df['reading score']+df['writing score'])/3"
   ]
  },
  {
   "cell_type": "code",
   "execution_count": 8,
   "id": "abb0ff48",
   "metadata": {},
   "outputs": [],
   "source": [
    "top_scores = df.groupby(by = ['test preparation course','gender'])['avg'].max()"
   ]
  },
  {
   "cell_type": "code",
   "execution_count": 9,
   "id": "67c82747",
   "metadata": {},
   "outputs": [
    {
     "data": {
      "text/plain": [
       "test preparation course  gender\n",
       "completed                female     99.666667\n",
       "                         male      100.000000\n",
       "none                     female    100.000000\n",
       "                         male       93.666667\n",
       "Name: avg, dtype: float64"
      ]
     },
     "execution_count": 9,
     "metadata": {},
     "output_type": "execute_result"
    }
   ],
   "source": [
    "top_scores"
   ]
  },
  {
   "cell_type": "code",
   "execution_count": 10,
   "id": "5dbb7938",
   "metadata": {},
   "outputs": [
    {
     "data": {
      "text/html": [
       "<div>\n",
       "<style scoped>\n",
       "    .dataframe tbody tr th:only-of-type {\n",
       "        vertical-align: middle;\n",
       "    }\n",
       "\n",
       "    .dataframe tbody tr th {\n",
       "        vertical-align: top;\n",
       "    }\n",
       "\n",
       "    .dataframe thead th {\n",
       "        text-align: right;\n",
       "    }\n",
       "</style>\n",
       "<table border=\"1\" class=\"dataframe\">\n",
       "  <thead>\n",
       "    <tr style=\"text-align: right;\">\n",
       "      <th></th>\n",
       "      <th>gender</th>\n",
       "      <th>race/ethnicity</th>\n",
       "      <th>parental level of education</th>\n",
       "      <th>lunch</th>\n",
       "      <th>test preparation course</th>\n",
       "      <th>math score</th>\n",
       "      <th>reading score</th>\n",
       "      <th>writing score</th>\n",
       "      <th>avg</th>\n",
       "    </tr>\n",
       "  </thead>\n",
       "  <tbody>\n",
       "    <tr>\n",
       "      <th>513</th>\n",
       "      <td>female</td>\n",
       "      <td>group E</td>\n",
       "      <td>bachelor's degree</td>\n",
       "      <td>standard</td>\n",
       "      <td>completed</td>\n",
       "      <td>99</td>\n",
       "      <td>100</td>\n",
       "      <td>100</td>\n",
       "      <td>99.666667</td>\n",
       "    </tr>\n",
       "    <tr>\n",
       "      <th>516</th>\n",
       "      <td>female</td>\n",
       "      <td>group E</td>\n",
       "      <td>bachelor's degree</td>\n",
       "      <td>standard</td>\n",
       "      <td>none</td>\n",
       "      <td>100</td>\n",
       "      <td>100</td>\n",
       "      <td>100</td>\n",
       "      <td>100.000000</td>\n",
       "    </tr>\n",
       "    <tr>\n",
       "      <th>517</th>\n",
       "      <td>female</td>\n",
       "      <td>group E</td>\n",
       "      <td>associate's degree</td>\n",
       "      <td>standard</td>\n",
       "      <td>none</td>\n",
       "      <td>100</td>\n",
       "      <td>100</td>\n",
       "      <td>100</td>\n",
       "      <td>100.000000</td>\n",
       "    </tr>\n",
       "    <tr>\n",
       "      <th>999</th>\n",
       "      <td>male</td>\n",
       "      <td>group E</td>\n",
       "      <td>bachelor's degree</td>\n",
       "      <td>standard</td>\n",
       "      <td>completed</td>\n",
       "      <td>100</td>\n",
       "      <td>100</td>\n",
       "      <td>100</td>\n",
       "      <td>100.000000</td>\n",
       "    </tr>\n",
       "    <tr>\n",
       "      <th>990</th>\n",
       "      <td>male</td>\n",
       "      <td>group C</td>\n",
       "      <td>associate's degree</td>\n",
       "      <td>standard</td>\n",
       "      <td>none</td>\n",
       "      <td>97</td>\n",
       "      <td>93</td>\n",
       "      <td>91</td>\n",
       "      <td>93.666667</td>\n",
       "    </tr>\n",
       "  </tbody>\n",
       "</table>\n",
       "</div>"
      ],
      "text/plain": [
       "     gender race/ethnicity parental level of education     lunch  \\\n",
       "513  female        group E           bachelor's degree  standard   \n",
       "516  female        group E           bachelor's degree  standard   \n",
       "517  female        group E          associate's degree  standard   \n",
       "999    male        group E           bachelor's degree  standard   \n",
       "990    male        group C          associate's degree  standard   \n",
       "\n",
       "    test preparation course  math score  reading score  writing score  \\\n",
       "513               completed          99            100            100   \n",
       "516                    none         100            100            100   \n",
       "517                    none         100            100            100   \n",
       "999               completed         100            100            100   \n",
       "990                    none          97             93             91   \n",
       "\n",
       "            avg  \n",
       "513   99.666667  \n",
       "516  100.000000  \n",
       "517  100.000000  \n",
       "999  100.000000  \n",
       "990   93.666667  "
      ]
     },
     "execution_count": 10,
     "metadata": {},
     "output_type": "execute_result"
    }
   ],
   "source": [
    "#select only those rows where avg is in top scores.\n",
    "filter = df['avg'].isin (top_scores)\n",
    "df[filter].sort_values(by = ['gender','test preparation course','avg'],ascending = [True,True,False])"
   ]
  },
  {
   "cell_type": "markdown",
   "id": "6e98535a",
   "metadata": {},
   "source": [
    "*** \n",
    "The above table shows the detail of top students based on gender and test preparation course.(Among female, with test prep status  none, there are 2 top scorers.)\n",
    "***"
   ]
  },
  {
   "cell_type": "markdown",
   "id": "8bfc5107",
   "metadata": {},
   "source": [
    "## 4.What do you think about the scoring variation for math, reading and writing based on ● Gender ● Test preparation course"
   ]
  },
  {
   "cell_type": "markdown",
   "id": "a9fabcc0",
   "metadata": {},
   "source": [
    "### Math score variation"
   ]
  },
  {
   "cell_type": "code",
   "execution_count": 11,
   "id": "5385d613",
   "metadata": {},
   "outputs": [
    {
     "data": {
      "text/html": [
       "<div>\n",
       "<style scoped>\n",
       "    .dataframe tbody tr th:only-of-type {\n",
       "        vertical-align: middle;\n",
       "    }\n",
       "\n",
       "    .dataframe tbody tr th {\n",
       "        vertical-align: top;\n",
       "    }\n",
       "\n",
       "    .dataframe thead th {\n",
       "        text-align: right;\n",
       "    }\n",
       "</style>\n",
       "<table border=\"1\" class=\"dataframe\">\n",
       "  <thead>\n",
       "    <tr style=\"text-align: right;\">\n",
       "      <th></th>\n",
       "      <th></th>\n",
       "      <th>count</th>\n",
       "      <th>mean</th>\n",
       "      <th>std</th>\n",
       "      <th>min</th>\n",
       "      <th>25%</th>\n",
       "      <th>50%</th>\n",
       "      <th>75%</th>\n",
       "      <th>max</th>\n",
       "    </tr>\n",
       "    <tr>\n",
       "      <th>gender</th>\n",
       "      <th>test preparation course</th>\n",
       "      <th></th>\n",
       "      <th></th>\n",
       "      <th></th>\n",
       "      <th></th>\n",
       "      <th></th>\n",
       "      <th></th>\n",
       "      <th></th>\n",
       "      <th></th>\n",
       "    </tr>\n",
       "  </thead>\n",
       "  <tbody>\n",
       "    <tr>\n",
       "      <th rowspan=\"2\" valign=\"top\">female</th>\n",
       "      <th>completed</th>\n",
       "      <td>184.0</td>\n",
       "      <td>67.108696</td>\n",
       "      <td>14.428233</td>\n",
       "      <td>23.0</td>\n",
       "      <td>58.75</td>\n",
       "      <td>67.0</td>\n",
       "      <td>76.0</td>\n",
       "      <td>99.0</td>\n",
       "    </tr>\n",
       "    <tr>\n",
       "      <th>none</th>\n",
       "      <td>334.0</td>\n",
       "      <td>61.320359</td>\n",
       "      <td>16.510686</td>\n",
       "      <td>0.0</td>\n",
       "      <td>52.00</td>\n",
       "      <td>62.0</td>\n",
       "      <td>73.0</td>\n",
       "      <td>100.0</td>\n",
       "    </tr>\n",
       "    <tr>\n",
       "      <th rowspan=\"2\" valign=\"top\">male</th>\n",
       "      <th>completed</th>\n",
       "      <td>174.0</td>\n",
       "      <td>72.988506</td>\n",
       "      <td>14.039164</td>\n",
       "      <td>39.0</td>\n",
       "      <td>63.00</td>\n",
       "      <td>74.0</td>\n",
       "      <td>82.0</td>\n",
       "      <td>100.0</td>\n",
       "    </tr>\n",
       "    <tr>\n",
       "      <th>none</th>\n",
       "      <td>308.0</td>\n",
       "      <td>66.467532</td>\n",
       "      <td>14.335746</td>\n",
       "      <td>27.0</td>\n",
       "      <td>57.00</td>\n",
       "      <td>67.0</td>\n",
       "      <td>76.0</td>\n",
       "      <td>97.0</td>\n",
       "    </tr>\n",
       "  </tbody>\n",
       "</table>\n",
       "</div>"
      ],
      "text/plain": [
       "                                count       mean        std   min    25%  \\\n",
       "gender test preparation course                                             \n",
       "female completed                184.0  67.108696  14.428233  23.0  58.75   \n",
       "       none                     334.0  61.320359  16.510686   0.0  52.00   \n",
       "male   completed                174.0  72.988506  14.039164  39.0  63.00   \n",
       "       none                     308.0  66.467532  14.335746  27.0  57.00   \n",
       "\n",
       "                                 50%   75%    max  \n",
       "gender test preparation course                     \n",
       "female completed                67.0  76.0   99.0  \n",
       "       none                     62.0  73.0  100.0  \n",
       "male   completed                74.0  82.0  100.0  \n",
       "       none                     67.0  76.0   97.0  "
      ]
     },
     "execution_count": 11,
     "metadata": {},
     "output_type": "execute_result"
    }
   ],
   "source": [
    "scores = df.groupby(by = ['gender','test preparation course'])[['math score','reading score','writing score' ]].describe()\n",
    "scores['math score']"
   ]
  },
  {
   "cell_type": "code",
   "execution_count": 12,
   "id": "8d4d9d87",
   "metadata": {},
   "outputs": [
    {
     "data": {
      "image/png": "[encoded data removed]",
      "text/plain": [
       "<Figure size 844.75x360 with 2 Axes>"
      ]
     },
     "metadata": {
      "needs_background": "light"
     },
     "output_type": "display_data"
    }
   ],
   "source": [
    "\n",
    "sns.displot(data = df, x = 'math score', col ='gender',hue = 'test preparation course')\n",
    "plt.show()"
   ]
  },
  {
   "cell_type": "markdown",
   "id": "5cf46c36",
   "metadata": {},
   "source": [
    "***\n",
    "\n",
    "As per the data, the math score variation is large among female, whose test preparation status is none.\n",
    "***"
   ]
  },
  {
   "cell_type": "markdown",
   "id": "153a2550",
   "metadata": {},
   "source": [
    "### Reading score variation"
   ]
  },
  {
   "cell_type": "code",
   "execution_count": 13,
   "id": "b43fcd77",
   "metadata": {},
   "outputs": [
    {
     "data": {
      "text/html": [
       "<div>\n",
       "<style scoped>\n",
       "    .dataframe tbody tr th:only-of-type {\n",
       "        vertical-align: middle;\n",
       "    }\n",
       "\n",
       "    .dataframe tbody tr th {\n",
       "        vertical-align: top;\n",
       "    }\n",
       "\n",
       "    .dataframe thead th {\n",
       "        text-align: right;\n",
       "    }\n",
       "</style>\n",
       "<table border=\"1\" class=\"dataframe\">\n",
       "  <thead>\n",
       "    <tr style=\"text-align: right;\">\n",
       "      <th></th>\n",
       "      <th></th>\n",
       "      <th>count</th>\n",
       "      <th>mean</th>\n",
       "      <th>std</th>\n",
       "      <th>min</th>\n",
       "      <th>25%</th>\n",
       "      <th>50%</th>\n",
       "      <th>75%</th>\n",
       "      <th>max</th>\n",
       "    </tr>\n",
       "    <tr>\n",
       "      <th>gender</th>\n",
       "      <th>test preparation course</th>\n",
       "      <th></th>\n",
       "      <th></th>\n",
       "      <th></th>\n",
       "      <th></th>\n",
       "      <th></th>\n",
       "      <th></th>\n",
       "      <th></th>\n",
       "      <th></th>\n",
       "    </tr>\n",
       "  </thead>\n",
       "  <tbody>\n",
       "    <tr>\n",
       "      <th rowspan=\"2\" valign=\"top\">female</th>\n",
       "      <th>completed</th>\n",
       "      <td>184.0</td>\n",
       "      <td>77.375000</td>\n",
       "      <td>12.695493</td>\n",
       "      <td>40.0</td>\n",
       "      <td>70.0</td>\n",
       "      <td>78.0</td>\n",
       "      <td>86.0</td>\n",
       "      <td>100.0</td>\n",
       "    </tr>\n",
       "    <tr>\n",
       "      <th>none</th>\n",
       "      <td>334.0</td>\n",
       "      <td>69.955090</td>\n",
       "      <td>14.636981</td>\n",
       "      <td>17.0</td>\n",
       "      <td>61.0</td>\n",
       "      <td>71.0</td>\n",
       "      <td>80.0</td>\n",
       "      <td>100.0</td>\n",
       "    </tr>\n",
       "    <tr>\n",
       "      <th rowspan=\"2\" valign=\"top\">male</th>\n",
       "      <th>completed</th>\n",
       "      <td>174.0</td>\n",
       "      <td>70.793103</td>\n",
       "      <td>13.612420</td>\n",
       "      <td>37.0</td>\n",
       "      <td>62.0</td>\n",
       "      <td>72.0</td>\n",
       "      <td>81.0</td>\n",
       "      <td>100.0</td>\n",
       "    </tr>\n",
       "    <tr>\n",
       "      <th>none</th>\n",
       "      <td>308.0</td>\n",
       "      <td>62.581169</td>\n",
       "      <td>13.595718</td>\n",
       "      <td>23.0</td>\n",
       "      <td>54.0</td>\n",
       "      <td>63.0</td>\n",
       "      <td>73.0</td>\n",
       "      <td>96.0</td>\n",
       "    </tr>\n",
       "  </tbody>\n",
       "</table>\n",
       "</div>"
      ],
      "text/plain": [
       "                                count       mean        std   min   25%   50%  \\\n",
       "gender test preparation course                                                  \n",
       "female completed                184.0  77.375000  12.695493  40.0  70.0  78.0   \n",
       "       none                     334.0  69.955090  14.636981  17.0  61.0  71.0   \n",
       "male   completed                174.0  70.793103  13.612420  37.0  62.0  72.0   \n",
       "       none                     308.0  62.581169  13.595718  23.0  54.0  63.0   \n",
       "\n",
       "                                 75%    max  \n",
       "gender test preparation course               \n",
       "female completed                86.0  100.0  \n",
       "       none                     80.0  100.0  \n",
       "male   completed                81.0  100.0  \n",
       "       none                     73.0   96.0  "
      ]
     },
     "execution_count": 13,
     "metadata": {},
     "output_type": "execute_result"
    }
   ],
   "source": [
    "scores['reading score']"
   ]
  },
  {
   "cell_type": "code",
   "execution_count": 14,
   "id": "977e2324",
   "metadata": {},
   "outputs": [
    {
     "data": {
      "image/png": "[encoded data removed]",
      "text/plain": [
       "<Figure size 844.75x360 with 2 Axes>"
      ]
     },
     "metadata": {
      "needs_background": "light"
     },
     "output_type": "display_data"
    }
   ],
   "source": [
    "sns.displot(data = df, x = 'reading score', col ='gender',hue = 'test preparation course')\n",
    "plt.show()"
   ]
  },
  {
   "cell_type": "markdown",
   "id": "59d4b43d",
   "metadata": {},
   "source": [
    "***\n",
    "There is only slight variation in reading scores among gender and test preparation course status.Lowest variation is among female , with test preparation status completed.\n",
    "***"
   ]
  },
  {
   "cell_type": "markdown",
   "id": "31c9d5dd",
   "metadata": {},
   "source": [
    "### Writing score variation"
   ]
  },
  {
   "cell_type": "code",
   "execution_count": 15,
   "id": "2ca4c956",
   "metadata": {},
   "outputs": [
    {
     "data": {
      "text/html": [
       "<div>\n",
       "<style scoped>\n",
       "    .dataframe tbody tr th:only-of-type {\n",
       "        vertical-align: middle;\n",
       "    }\n",
       "\n",
       "    .dataframe tbody tr th {\n",
       "        vertical-align: top;\n",
       "    }\n",
       "\n",
       "    .dataframe thead th {\n",
       "        text-align: right;\n",
       "    }\n",
       "</style>\n",
       "<table border=\"1\" class=\"dataframe\">\n",
       "  <thead>\n",
       "    <tr style=\"text-align: right;\">\n",
       "      <th></th>\n",
       "      <th></th>\n",
       "      <th>count</th>\n",
       "      <th>mean</th>\n",
       "      <th>std</th>\n",
       "      <th>min</th>\n",
       "      <th>25%</th>\n",
       "      <th>50%</th>\n",
       "      <th>75%</th>\n",
       "      <th>max</th>\n",
       "    </tr>\n",
       "    <tr>\n",
       "      <th>gender</th>\n",
       "      <th>test preparation course</th>\n",
       "      <th></th>\n",
       "      <th></th>\n",
       "      <th></th>\n",
       "      <th></th>\n",
       "      <th></th>\n",
       "      <th></th>\n",
       "      <th></th>\n",
       "      <th></th>\n",
       "    </tr>\n",
       "  </thead>\n",
       "  <tbody>\n",
       "    <tr>\n",
       "      <th rowspan=\"2\" valign=\"top\">female</th>\n",
       "      <th>completed</th>\n",
       "      <td>184.0</td>\n",
       "      <td>78.793478</td>\n",
       "      <td>12.240788</td>\n",
       "      <td>36.0</td>\n",
       "      <td>72.0</td>\n",
       "      <td>79.0</td>\n",
       "      <td>87.25</td>\n",
       "      <td>100.0</td>\n",
       "    </tr>\n",
       "    <tr>\n",
       "      <th>none</th>\n",
       "      <td>334.0</td>\n",
       "      <td>68.982036</td>\n",
       "      <td>15.016497</td>\n",
       "      <td>10.0</td>\n",
       "      <td>60.0</td>\n",
       "      <td>70.0</td>\n",
       "      <td>79.00</td>\n",
       "      <td>100.0</td>\n",
       "    </tr>\n",
       "    <tr>\n",
       "      <th rowspan=\"2\" valign=\"top\">male</th>\n",
       "      <th>completed</th>\n",
       "      <td>174.0</td>\n",
       "      <td>70.339080</td>\n",
       "      <td>12.887910</td>\n",
       "      <td>38.0</td>\n",
       "      <td>62.0</td>\n",
       "      <td>71.0</td>\n",
       "      <td>79.00</td>\n",
       "      <td>100.0</td>\n",
       "    </tr>\n",
       "    <tr>\n",
       "      <th>none</th>\n",
       "      <td>308.0</td>\n",
       "      <td>59.551948</td>\n",
       "      <td>13.468284</td>\n",
       "      <td>15.0</td>\n",
       "      <td>51.0</td>\n",
       "      <td>60.0</td>\n",
       "      <td>69.00</td>\n",
       "      <td>92.0</td>\n",
       "    </tr>\n",
       "  </tbody>\n",
       "</table>\n",
       "</div>"
      ],
      "text/plain": [
       "                                count       mean        std   min   25%   50%  \\\n",
       "gender test preparation course                                                  \n",
       "female completed                184.0  78.793478  12.240788  36.0  72.0  79.0   \n",
       "       none                     334.0  68.982036  15.016497  10.0  60.0  70.0   \n",
       "male   completed                174.0  70.339080  12.887910  38.0  62.0  71.0   \n",
       "       none                     308.0  59.551948  13.468284  15.0  51.0  60.0   \n",
       "\n",
       "                                  75%    max  \n",
       "gender test preparation course                \n",
       "female completed                87.25  100.0  \n",
       "       none                     79.00  100.0  \n",
       "male   completed                79.00  100.0  \n",
       "       none                     69.00   92.0  "
      ]
     },
     "execution_count": 15,
     "metadata": {},
     "output_type": "execute_result"
    }
   ],
   "source": [
    "scores['writing score']"
   ]
  },
  {
   "cell_type": "code",
   "execution_count": 16,
   "id": "cafeee5e",
   "metadata": {},
   "outputs": [
    {
     "data": {
      "image/png": "[encoded data removed]",
      "text/plain": [
       "<Figure size 844.75x360 with 2 Axes>"
      ]
     },
     "metadata": {
      "needs_background": "light"
     },
     "output_type": "display_data"
    }
   ],
   "source": [
    "sns.displot(data = df, x = 'writing score', col ='gender',hue = 'test preparation course')\n",
    "plt.show()"
   ]
  },
  {
   "cell_type": "markdown",
   "id": "ac91871d",
   "metadata": {},
   "source": [
    "***\n",
    "Writing score variation is also large among female whose test completion status is none. Among the three scores, math score has large variation.\n",
    "***"
   ]
  },
  {
   "cell_type": "markdown",
   "id": "26b27717",
   "metadata": {},
   "source": [
    "## 5.The management needs your help to give bonus points to the top 25% of students based on their maths score, so how will you help the management to achieve this."
   ]
  },
  {
   "cell_type": "markdown",
   "id": "922a2532",
   "metadata": {},
   "source": [
    "First identify top 25% of students based on math score from the data. Then provide their id to the management."
   ]
  },
  {
   "cell_type": "code",
   "execution_count": 17,
   "id": "db124fb5",
   "metadata": {},
   "outputs": [
    {
     "data": {
      "text/plain": [
       "(1000, 9)"
      ]
     },
     "execution_count": 17,
     "metadata": {},
     "output_type": "execute_result"
    }
   ],
   "source": [
    "df.shape"
   ]
  },
  {
   "cell_type": "code",
   "execution_count": 18,
   "id": "98044883",
   "metadata": {},
   "outputs": [],
   "source": [
    "# 25 percentage\n",
    "n = df.shape[0]*.25"
   ]
  },
  {
   "cell_type": "code",
   "execution_count": 19,
   "id": "9e3cf58d",
   "metadata": {},
   "outputs": [
    {
     "data": {
      "text/html": [
       "<div>\n",
       "<style scoped>\n",
       "    .dataframe tbody tr th:only-of-type {\n",
       "        vertical-align: middle;\n",
       "    }\n",
       "\n",
       "    .dataframe tbody tr th {\n",
       "        vertical-align: top;\n",
       "    }\n",
       "\n",
       "    .dataframe thead th {\n",
       "        text-align: right;\n",
       "    }\n",
       "</style>\n",
       "<table border=\"1\" class=\"dataframe\">\n",
       "  <thead>\n",
       "    <tr style=\"text-align: right;\">\n",
       "      <th></th>\n",
       "      <th>gender</th>\n",
       "      <th>race/ethnicity</th>\n",
       "      <th>parental level of education</th>\n",
       "      <th>lunch</th>\n",
       "      <th>test preparation course</th>\n",
       "      <th>math score</th>\n",
       "      <th>reading score</th>\n",
       "      <th>writing score</th>\n",
       "      <th>avg</th>\n",
       "    </tr>\n",
       "  </thead>\n",
       "  <tbody>\n",
       "    <tr>\n",
       "      <th>515</th>\n",
       "      <td>female</td>\n",
       "      <td>group E</td>\n",
       "      <td>some college</td>\n",
       "      <td>standard</td>\n",
       "      <td>none</td>\n",
       "      <td>100</td>\n",
       "      <td>92</td>\n",
       "      <td>97</td>\n",
       "      <td>96.333333</td>\n",
       "    </tr>\n",
       "    <tr>\n",
       "      <th>516</th>\n",
       "      <td>female</td>\n",
       "      <td>group E</td>\n",
       "      <td>bachelor's degree</td>\n",
       "      <td>standard</td>\n",
       "      <td>none</td>\n",
       "      <td>100</td>\n",
       "      <td>100</td>\n",
       "      <td>100</td>\n",
       "      <td>100.000000</td>\n",
       "    </tr>\n",
       "    <tr>\n",
       "      <th>517</th>\n",
       "      <td>female</td>\n",
       "      <td>group E</td>\n",
       "      <td>associate's degree</td>\n",
       "      <td>standard</td>\n",
       "      <td>none</td>\n",
       "      <td>100</td>\n",
       "      <td>100</td>\n",
       "      <td>100</td>\n",
       "      <td>100.000000</td>\n",
       "    </tr>\n",
       "    <tr>\n",
       "      <th>996</th>\n",
       "      <td>male</td>\n",
       "      <td>group A</td>\n",
       "      <td>some college</td>\n",
       "      <td>standard</td>\n",
       "      <td>completed</td>\n",
       "      <td>100</td>\n",
       "      <td>96</td>\n",
       "      <td>86</td>\n",
       "      <td>94.000000</td>\n",
       "    </tr>\n",
       "    <tr>\n",
       "      <th>997</th>\n",
       "      <td>male</td>\n",
       "      <td>group D</td>\n",
       "      <td>some college</td>\n",
       "      <td>standard</td>\n",
       "      <td>completed</td>\n",
       "      <td>100</td>\n",
       "      <td>97</td>\n",
       "      <td>99</td>\n",
       "      <td>98.666667</td>\n",
       "    </tr>\n",
       "    <tr>\n",
       "      <th>...</th>\n",
       "      <td>...</td>\n",
       "      <td>...</td>\n",
       "      <td>...</td>\n",
       "      <td>...</td>\n",
       "      <td>...</td>\n",
       "      <td>...</td>\n",
       "      <td>...</td>\n",
       "      <td>...</td>\n",
       "      <td>...</td>\n",
       "    </tr>\n",
       "    <tr>\n",
       "      <th>428</th>\n",
       "      <td>female</td>\n",
       "      <td>group D</td>\n",
       "      <td>some college</td>\n",
       "      <td>free/reduced</td>\n",
       "      <td>none</td>\n",
       "      <td>77</td>\n",
       "      <td>86</td>\n",
       "      <td>86</td>\n",
       "      <td>83.000000</td>\n",
       "    </tr>\n",
       "    <tr>\n",
       "      <th>429</th>\n",
       "      <td>female</td>\n",
       "      <td>group E</td>\n",
       "      <td>some high school</td>\n",
       "      <td>standard</td>\n",
       "      <td>none</td>\n",
       "      <td>77</td>\n",
       "      <td>79</td>\n",
       "      <td>80</td>\n",
       "      <td>78.666667</td>\n",
       "    </tr>\n",
       "    <tr>\n",
       "      <th>849</th>\n",
       "      <td>male</td>\n",
       "      <td>group A</td>\n",
       "      <td>bachelor's degree</td>\n",
       "      <td>standard</td>\n",
       "      <td>none</td>\n",
       "      <td>77</td>\n",
       "      <td>67</td>\n",
       "      <td>68</td>\n",
       "      <td>70.666667</td>\n",
       "    </tr>\n",
       "    <tr>\n",
       "      <th>850</th>\n",
       "      <td>male</td>\n",
       "      <td>group C</td>\n",
       "      <td>associate's degree</td>\n",
       "      <td>free/reduced</td>\n",
       "      <td>none</td>\n",
       "      <td>77</td>\n",
       "      <td>67</td>\n",
       "      <td>64</td>\n",
       "      <td>69.333333</td>\n",
       "    </tr>\n",
       "    <tr>\n",
       "      <th>851</th>\n",
       "      <td>male</td>\n",
       "      <td>group D</td>\n",
       "      <td>some college</td>\n",
       "      <td>standard</td>\n",
       "      <td>completed</td>\n",
       "      <td>77</td>\n",
       "      <td>62</td>\n",
       "      <td>62</td>\n",
       "      <td>67.000000</td>\n",
       "    </tr>\n",
       "  </tbody>\n",
       "</table>\n",
       "<p>250 rows × 9 columns</p>\n",
       "</div>"
      ],
      "text/plain": [
       "     gender race/ethnicity parental level of education         lunch  \\\n",
       "515  female        group E                some college      standard   \n",
       "516  female        group E           bachelor's degree      standard   \n",
       "517  female        group E          associate's degree      standard   \n",
       "996    male        group A                some college      standard   \n",
       "997    male        group D                some college      standard   \n",
       "..      ...            ...                         ...           ...   \n",
       "428  female        group D                some college  free/reduced   \n",
       "429  female        group E            some high school      standard   \n",
       "849    male        group A           bachelor's degree      standard   \n",
       "850    male        group C          associate's degree  free/reduced   \n",
       "851    male        group D                some college      standard   \n",
       "\n",
       "    test preparation course  math score  reading score  writing score  \\\n",
       "515                    none         100             92             97   \n",
       "516                    none         100            100            100   \n",
       "517                    none         100            100            100   \n",
       "996               completed         100             96             86   \n",
       "997               completed         100             97             99   \n",
       "..                      ...         ...            ...            ...   \n",
       "428                    none          77             86             86   \n",
       "429                    none          77             79             80   \n",
       "849                    none          77             67             68   \n",
       "850                    none          77             67             64   \n",
       "851               completed          77             62             62   \n",
       "\n",
       "            avg  \n",
       "515   96.333333  \n",
       "516  100.000000  \n",
       "517  100.000000  \n",
       "996   94.000000  \n",
       "997   98.666667  \n",
       "..          ...  \n",
       "428   83.000000  \n",
       "429   78.666667  \n",
       "849   70.666667  \n",
       "850   69.333333  \n",
       "851   67.000000  \n",
       "\n",
       "[250 rows x 9 columns]"
      ]
     },
     "execution_count": 19,
     "metadata": {},
     "output_type": "execute_result"
    }
   ],
   "source": [
    "df.nlargest(int(n),'math score')"
   ]
  },
  {
   "cell_type": "code",
   "execution_count": 20,
   "id": "7ed9abb5",
   "metadata": {
    "scrolled": true
   },
   "outputs": [
    {
     "name": "stdout",
     "output_type": "stream",
     "text": [
      "[515, 516, 517, 996, 997, 998, 999, 513, 514, 995, 512, 993, 994, 510, 511, 989, 990, 991, 992, 508, 509, 988, 507, 987, 505, 506, 982, 983, 984, 985, 986, 503, 504, 980, 981, 499, 500, 501, 502, 978, 979, 497, 498, 971, 972, 973, 974, 975, 976, 977, 495, 496, 964, 965, 966, 967, 968, 969, 970, 494, 959, 960, 961, 962, 963, 488, 489, 490, 491, 492, 493, 950, 951, 952, 953, 954, 955, 956, 957, 958, 483, 484, 485, 486, 487, 939, 940, 941, 942, 943, 944, 945, 946, 947, 948, 949, 481, 482, 933, 934, 935, 936, 937, 938, 473, 474, 475, 476, 477, 478, 479, 480, 927, 928, 929, 930, 931, 932, 471, 472, 918, 919, 920, 921, 922, 923, 924, 925, 926, 467, 468, 469, 470, 914, 915, 916, 917, 458, 459, 460, 461, 462, 463, 464, 465, 466, 905, 906, 907, 908, 909, 910, 911, 912, 913, 450, 451, 452, 453, 454, 455, 456, 457, 891, 892, 893, 894, 895, 896, 897, 898, 899, 900, 901, 902, 903, 904, 444, 445, 446, 447, 448, 449, 880, 881, 882, 883, 884, 885, 886, 887, 888, 889, 890, 436, 437, 438, 439, 440, 441, 442, 443, 866, 867, 868, 869, 870, 871, 872, 873, 874, 875, 876, 877, 878, 879, 430, 431, 432, 433, 434, 435, 857, 858, 859, 860, 861, 862, 863, 864, 865, 414, 415, 416, 417, 418, 419, 420, 421, 422, 423, 424, 425, 426, 427, 428, 429, 849, 850, 851]\n"
     ]
    }
   ],
   "source": [
    "bonus_id = df.nlargest(int(n),'math score').index.to_list()\n",
    "print(bonus_id)"
   ]
  },
  {
   "cell_type": "markdown",
   "id": "0a4f6bf6",
   "metadata": {},
   "source": [
    "***\n",
    "bonus_id contains the ids of top 25% students\n",
    "***"
   ]
  }
 ],
 "metadata": {
  "kernelspec": {
   "display_name": "Python 3 (ipykernel)",
   "language": "python",
   "name": "python3"
  },
  "language_info": {
   "codemirror_mode": {
    "name": "ipython",
    "version": 3
   },
   "file_extension": ".py",
   "mimetype": "text/x-python",
   "name": "python",
   "nbconvert_exporter": "python",
   "pygments_lexer": "ipython3",
   "version": "3.9.7"
  }
 },
 "nbformat": 4,
 "nbformat_minor": 5
}
