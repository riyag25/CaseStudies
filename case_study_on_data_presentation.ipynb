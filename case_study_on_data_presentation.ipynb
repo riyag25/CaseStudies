{
  "nbformat": 4,
  "nbformat_minor": 0,
  "metadata": {
    "colab": {
      "name": "case_study on data presentation.ipynb",
      "provenance": [],
      "authorship_tag": "ABX9TyO10CGZKc4NiYkRnIX61JSR",
      "include_colab_link": true
    },
    "kernelspec": {
      "name": "python3",
      "display_name": "Python 3"
    },
    "language_info": {
      "name": "python"
    }
  },
  "cells": [
    {
      "cell_type": "markdown",
      "metadata": {
        "id": "view-in-github",
        "colab_type": "text"
      },
      "source": [
        "<a href=\"https://colab.research.google.com/github/riyag25/CaseStudies/blob/main/case_study_on_data_presentation.ipynb\" target=\"_parent\"><img src=\"https://colab.research.google.com/assets/colab-badge.svg\" alt=\"Open In Colab\"/></a>"
      ]
    },
    {
      "cell_type": "code",
      "execution_count": 1,
      "metadata": {
        "id": "QMcDHv9HVDoN"
      },
      "outputs": [],
      "source": [
        "import numpy as np\n",
        "import pandas as pd\n",
        "import matplotlib.pyplot as plt\n",
        "import seaborn as sns\n"
      ]
    },
    {
      "cell_type": "markdown",
      "source": [
        "## 1. Read the dataset to the python environment"
      ],
      "metadata": {
        "id": "TErDBjA5XfAz"
      }
    },
    {
      "cell_type": "code",
      "source": [
        "df = pd.read_csv('cars_data.csv')\n",
        "df.head(10)"
      ],
      "metadata": {
        "colab": {
          "base_uri": "https://localhost:8080/",
          "height": 531
        },
        "id": "_M4vJ4YoWwk4",
        "outputId": "e743fa78-7578-47e3-e8a0-41e39294151a"
      },
      "execution_count": 2,
      "outputs": [
        {
          "output_type": "execute_result",
          "data": {
            "text/plain": [
              "       Make    Model    Nickname Car Gender Buyer Gender  Buyer Age  \\\n",
              "0    Suzuki   Vitara  Philippine     Female       Female         51   \n",
              "1     Honda    S2000      Henrik       Male         Male         30   \n",
              "2       BMW       Z4      Lebbie       Male       Female         54   \n",
              "3    Toyota   Tacoma    Jefferey     Female         Male         68   \n",
              "4      Ford  Festiva     Glendon     Female         Male         70   \n",
              "5     Buick  Skylark        Glad       Male       Female         70   \n",
              "6  Infiniti       QX         Bud       Male         Male         66   \n",
              "7       Ram      C/V    Geoffrey     Female         Male         37   \n",
              "8       GMC   Safari      Marius     Female         Male         43   \n",
              "9    Nissan   Altima          Vi       Male       Female         73   \n",
              "\n",
              "          Buzzword     Country             City  Dealer Latitude  \\\n",
              "0    User-friendly     Belgium        Antwerpen        51.247239   \n",
              "1        analyzing       China            Jinhu        33.025433   \n",
              "2         software       China             Gemo        30.916207   \n",
              "3       monitoring    Portugal  Queluz de Baixo        38.745168   \n",
              "4         Sharable      Latvia         Jaunpils        56.729980   \n",
              "5  Vision-oriented      Mexico        Guadalupe        25.677560   \n",
              "6       throughput       Japan            Gosen        37.752524   \n",
              "7          circuit      Russia          Izborsk        57.708244   \n",
              "8      bottom-line  Luxembourg       Eschweiler        49.997540   \n",
              "9      Grass-roots      Cyprus           Meneou        34.858265   \n",
              "\n",
              "   Dealer Longitude       Color  New Car Purchase Date  Sale Price  Discount  \\\n",
              "0          4.440346      Yellow    False    19/07/2009    54806.14    0.2467   \n",
              "1        119.020584     Crimson    False    26/10/2015    51826.30    0.3147   \n",
              "2        121.677640       Khaki    False    28/03/2010    82929.14    0.5414   \n",
              "3         -9.267087        Puce    False    07/05/2008    56928.66    0.0850   \n",
              "4         23.016588      Yellow    False    01/06/2008    77201.26    0.1642   \n",
              "5       -100.259693     Crimson    False    17/05/2007    50882.23    0.6913   \n",
              "6        139.165056      Fuscia     True    11/08/2017    69680.54    0.1657   \n",
              "7         27.860883  Aquamarine     True    23/11/2007    56393.91    0.1006   \n",
              "8          5.947564        Mauv     True    16/03/2003    13797.81    0.2126   \n",
              "9         33.600789        Puce     True    19/05/2019    15176.04    0.1922   \n",
              "\n",
              "   Resell Price  5-yr Depreciation  Top Speed  0-60 Time  \n",
              "0      33858.32               0.13      200.9       11.5  \n",
              "1       2989.28               0.02      158.5        8.8  \n",
              "2      35049.16               0.24      149.5       14.4  \n",
              "3       8236.15               0.20      153.3       11.5  \n",
              "4      32765.76               0.18      122.0       14.9  \n",
              "5      38576.59               0.16      182.7        9.6  \n",
              "6      27962.25               0.18      231.8        5.3  \n",
              "7      29157.95               0.14      144.1        4.7  \n",
              "8      31062.38               0.01      223.3        5.8  \n",
              "9      45892.79               0.12      170.4        4.1  "
            ],
            "text/html": [
              "\n",
              "  <div id=\"df-a67bebfb-350e-4e99-9a88-05e26b7399a0\">\n",
              "    <div class=\"colab-df-container\">\n",
              "      <div>\n",
              "<style scoped>\n",
              "    .dataframe tbody tr th:only-of-type {\n",
              "        vertical-align: middle;\n",
              "    }\n",
              "\n",
              "    .dataframe tbody tr th {\n",
              "        vertical-align: top;\n",
              "    }\n",
              "\n",
              "    .dataframe thead th {\n",
              "        text-align: right;\n",
              "    }\n",
              "</style>\n",
              "<table border=\"1\" class=\"dataframe\">\n",
              "  <thead>\n",
              "    <tr style=\"text-align: right;\">\n",
              "      <th></th>\n",
              "      <th>Make</th>\n",
              "      <th>Model</th>\n",
              "      <th>Nickname</th>\n",
              "      <th>Car Gender</th>\n",
              "      <th>Buyer Gender</th>\n",
              "      <th>Buyer Age</th>\n",
              "      <th>Buzzword</th>\n",
              "      <th>Country</th>\n",
              "      <th>City</th>\n",
              "      <th>Dealer Latitude</th>\n",
              "      <th>Dealer Longitude</th>\n",
              "      <th>Color</th>\n",
              "      <th>New Car</th>\n",
              "      <th>Purchase Date</th>\n",
              "      <th>Sale Price</th>\n",
              "      <th>Discount</th>\n",
              "      <th>Resell Price</th>\n",
              "      <th>5-yr Depreciation</th>\n",
              "      <th>Top Speed</th>\n",
              "      <th>0-60 Time</th>\n",
              "    </tr>\n",
              "  </thead>\n",
              "  <tbody>\n",
              "    <tr>\n",
              "      <th>0</th>\n",
              "      <td>Suzuki</td>\n",
              "      <td>Vitara</td>\n",
              "      <td>Philippine</td>\n",
              "      <td>Female</td>\n",
              "      <td>Female</td>\n",
              "      <td>51</td>\n",
              "      <td>User-friendly</td>\n",
              "      <td>Belgium</td>\n",
              "      <td>Antwerpen</td>\n",
              "      <td>51.247239</td>\n",
              "      <td>4.440346</td>\n",
              "      <td>Yellow</td>\n",
              "      <td>False</td>\n",
              "      <td>19/07/2009</td>\n",
              "      <td>54806.14</td>\n",
              "      <td>0.2467</td>\n",
              "      <td>33858.32</td>\n",
              "      <td>0.13</td>\n",
              "      <td>200.9</td>\n",
              "      <td>11.5</td>\n",
              "    </tr>\n",
              "    <tr>\n",
              "      <th>1</th>\n",
              "      <td>Honda</td>\n",
              "      <td>S2000</td>\n",
              "      <td>Henrik</td>\n",
              "      <td>Male</td>\n",
              "      <td>Male</td>\n",
              "      <td>30</td>\n",
              "      <td>analyzing</td>\n",
              "      <td>China</td>\n",
              "      <td>Jinhu</td>\n",
              "      <td>33.025433</td>\n",
              "      <td>119.020584</td>\n",
              "      <td>Crimson</td>\n",
              "      <td>False</td>\n",
              "      <td>26/10/2015</td>\n",
              "      <td>51826.30</td>\n",
              "      <td>0.3147</td>\n",
              "      <td>2989.28</td>\n",
              "      <td>0.02</td>\n",
              "      <td>158.5</td>\n",
              "      <td>8.8</td>\n",
              "    </tr>\n",
              "    <tr>\n",
              "      <th>2</th>\n",
              "      <td>BMW</td>\n",
              "      <td>Z4</td>\n",
              "      <td>Lebbie</td>\n",
              "      <td>Male</td>\n",
              "      <td>Female</td>\n",
              "      <td>54</td>\n",
              "      <td>software</td>\n",
              "      <td>China</td>\n",
              "      <td>Gemo</td>\n",
              "      <td>30.916207</td>\n",
              "      <td>121.677640</td>\n",
              "      <td>Khaki</td>\n",
              "      <td>False</td>\n",
              "      <td>28/03/2010</td>\n",
              "      <td>82929.14</td>\n",
              "      <td>0.5414</td>\n",
              "      <td>35049.16</td>\n",
              "      <td>0.24</td>\n",
              "      <td>149.5</td>\n",
              "      <td>14.4</td>\n",
              "    </tr>\n",
              "    <tr>\n",
              "      <th>3</th>\n",
              "      <td>Toyota</td>\n",
              "      <td>Tacoma</td>\n",
              "      <td>Jefferey</td>\n",
              "      <td>Female</td>\n",
              "      <td>Male</td>\n",
              "      <td>68</td>\n",
              "      <td>monitoring</td>\n",
              "      <td>Portugal</td>\n",
              "      <td>Queluz de Baixo</td>\n",
              "      <td>38.745168</td>\n",
              "      <td>-9.267087</td>\n",
              "      <td>Puce</td>\n",
              "      <td>False</td>\n",
              "      <td>07/05/2008</td>\n",
              "      <td>56928.66</td>\n",
              "      <td>0.0850</td>\n",
              "      <td>8236.15</td>\n",
              "      <td>0.20</td>\n",
              "      <td>153.3</td>\n",
              "      <td>11.5</td>\n",
              "    </tr>\n",
              "    <tr>\n",
              "      <th>4</th>\n",
              "      <td>Ford</td>\n",
              "      <td>Festiva</td>\n",
              "      <td>Glendon</td>\n",
              "      <td>Female</td>\n",
              "      <td>Male</td>\n",
              "      <td>70</td>\n",
              "      <td>Sharable</td>\n",
              "      <td>Latvia</td>\n",
              "      <td>Jaunpils</td>\n",
              "      <td>56.729980</td>\n",
              "      <td>23.016588</td>\n",
              "      <td>Yellow</td>\n",
              "      <td>False</td>\n",
              "      <td>01/06/2008</td>\n",
              "      <td>77201.26</td>\n",
              "      <td>0.1642</td>\n",
              "      <td>32765.76</td>\n",
              "      <td>0.18</td>\n",
              "      <td>122.0</td>\n",
              "      <td>14.9</td>\n",
              "    </tr>\n",
              "    <tr>\n",
              "      <th>5</th>\n",
              "      <td>Buick</td>\n",
              "      <td>Skylark</td>\n",
              "      <td>Glad</td>\n",
              "      <td>Male</td>\n",
              "      <td>Female</td>\n",
              "      <td>70</td>\n",
              "      <td>Vision-oriented</td>\n",
              "      <td>Mexico</td>\n",
              "      <td>Guadalupe</td>\n",
              "      <td>25.677560</td>\n",
              "      <td>-100.259693</td>\n",
              "      <td>Crimson</td>\n",
              "      <td>False</td>\n",
              "      <td>17/05/2007</td>\n",
              "      <td>50882.23</td>\n",
              "      <td>0.6913</td>\n",
              "      <td>38576.59</td>\n",
              "      <td>0.16</td>\n",
              "      <td>182.7</td>\n",
              "      <td>9.6</td>\n",
              "    </tr>\n",
              "    <tr>\n",
              "      <th>6</th>\n",
              "      <td>Infiniti</td>\n",
              "      <td>QX</td>\n",
              "      <td>Bud</td>\n",
              "      <td>Male</td>\n",
              "      <td>Male</td>\n",
              "      <td>66</td>\n",
              "      <td>throughput</td>\n",
              "      <td>Japan</td>\n",
              "      <td>Gosen</td>\n",
              "      <td>37.752524</td>\n",
              "      <td>139.165056</td>\n",
              "      <td>Fuscia</td>\n",
              "      <td>True</td>\n",
              "      <td>11/08/2017</td>\n",
              "      <td>69680.54</td>\n",
              "      <td>0.1657</td>\n",
              "      <td>27962.25</td>\n",
              "      <td>0.18</td>\n",
              "      <td>231.8</td>\n",
              "      <td>5.3</td>\n",
              "    </tr>\n",
              "    <tr>\n",
              "      <th>7</th>\n",
              "      <td>Ram</td>\n",
              "      <td>C/V</td>\n",
              "      <td>Geoffrey</td>\n",
              "      <td>Female</td>\n",
              "      <td>Male</td>\n",
              "      <td>37</td>\n",
              "      <td>circuit</td>\n",
              "      <td>Russia</td>\n",
              "      <td>Izborsk</td>\n",
              "      <td>57.708244</td>\n",
              "      <td>27.860883</td>\n",
              "      <td>Aquamarine</td>\n",
              "      <td>True</td>\n",
              "      <td>23/11/2007</td>\n",
              "      <td>56393.91</td>\n",
              "      <td>0.1006</td>\n",
              "      <td>29157.95</td>\n",
              "      <td>0.14</td>\n",
              "      <td>144.1</td>\n",
              "      <td>4.7</td>\n",
              "    </tr>\n",
              "    <tr>\n",
              "      <th>8</th>\n",
              "      <td>GMC</td>\n",
              "      <td>Safari</td>\n",
              "      <td>Marius</td>\n",
              "      <td>Female</td>\n",
              "      <td>Male</td>\n",
              "      <td>43</td>\n",
              "      <td>bottom-line</td>\n",
              "      <td>Luxembourg</td>\n",
              "      <td>Eschweiler</td>\n",
              "      <td>49.997540</td>\n",
              "      <td>5.947564</td>\n",
              "      <td>Mauv</td>\n",
              "      <td>True</td>\n",
              "      <td>16/03/2003</td>\n",
              "      <td>13797.81</td>\n",
              "      <td>0.2126</td>\n",
              "      <td>31062.38</td>\n",
              "      <td>0.01</td>\n",
              "      <td>223.3</td>\n",
              "      <td>5.8</td>\n",
              "    </tr>\n",
              "    <tr>\n",
              "      <th>9</th>\n",
              "      <td>Nissan</td>\n",
              "      <td>Altima</td>\n",
              "      <td>Vi</td>\n",
              "      <td>Male</td>\n",
              "      <td>Female</td>\n",
              "      <td>73</td>\n",
              "      <td>Grass-roots</td>\n",
              "      <td>Cyprus</td>\n",
              "      <td>Meneou</td>\n",
              "      <td>34.858265</td>\n",
              "      <td>33.600789</td>\n",
              "      <td>Puce</td>\n",
              "      <td>True</td>\n",
              "      <td>19/05/2019</td>\n",
              "      <td>15176.04</td>\n",
              "      <td>0.1922</td>\n",
              "      <td>45892.79</td>\n",
              "      <td>0.12</td>\n",
              "      <td>170.4</td>\n",
              "      <td>4.1</td>\n",
              "    </tr>\n",
              "  </tbody>\n",
              "</table>\n",
              "</div>\n",
              "      <button class=\"colab-df-convert\" onclick=\"convertToInteractive('df-a67bebfb-350e-4e99-9a88-05e26b7399a0')\"\n",
              "              title=\"Convert this dataframe to an interactive table.\"\n",
              "              style=\"display:none;\">\n",
              "        \n",
              "  <svg xmlns=\"http://www.w3.org/2000/svg\" height=\"24px\"viewBox=\"0 0 24 24\"\n",
              "       width=\"24px\">\n",
              "    <path d=\"M0 0h24v24H0V0z\" fill=\"none\"/>\n",
              "    <path d=\"M18.56 5.44l.94 2.06.94-2.06 2.06-.94-2.06-.94-.94-2.06-.94 2.06-2.06.94zm-11 1L8.5 8.5l.94-2.06 2.06-.94-2.06-.94L8.5 2.5l-.94 2.06-2.06.94zm10 10l.94 2.06.94-2.06 2.06-.94-2.06-.94-.94-2.06-.94 2.06-2.06.94z\"/><path d=\"M17.41 7.96l-1.37-1.37c-.4-.4-.92-.59-1.43-.59-.52 0-1.04.2-1.43.59L10.3 9.45l-7.72 7.72c-.78.78-.78 2.05 0 2.83L4 21.41c.39.39.9.59 1.41.59.51 0 1.02-.2 1.41-.59l7.78-7.78 2.81-2.81c.8-.78.8-2.07 0-2.86zM5.41 20L4 18.59l7.72-7.72 1.47 1.35L5.41 20z\"/>\n",
              "  </svg>\n",
              "      </button>\n",
              "      \n",
              "  <style>\n",
              "    .colab-df-container {\n",
              "      display:flex;\n",
              "      flex-wrap:wrap;\n",
              "      gap: 12px;\n",
              "    }\n",
              "\n",
              "    .colab-df-convert {\n",
              "      background-color: #E8F0FE;\n",
              "      border: none;\n",
              "      border-radius: 50%;\n",
              "      cursor: pointer;\n",
              "      display: none;\n",
              "      fill: #1967D2;\n",
              "      height: 32px;\n",
              "      padding: 0 0 0 0;\n",
              "      width: 32px;\n",
              "    }\n",
              "\n",
              "    .colab-df-convert:hover {\n",
              "      background-color: #E2EBFA;\n",
              "      box-shadow: 0px 1px 2px rgba(60, 64, 67, 0.3), 0px 1px 3px 1px rgba(60, 64, 67, 0.15);\n",
              "      fill: #174EA6;\n",
              "    }\n",
              "\n",
              "    [theme=dark] .colab-df-convert {\n",
              "      background-color: #3B4455;\n",
              "      fill: #D2E3FC;\n",
              "    }\n",
              "\n",
              "    [theme=dark] .colab-df-convert:hover {\n",
              "      background-color: #434B5C;\n",
              "      box-shadow: 0px 1px 3px 1px rgba(0, 0, 0, 0.15);\n",
              "      filter: drop-shadow(0px 1px 2px rgba(0, 0, 0, 0.3));\n",
              "      fill: #FFFFFF;\n",
              "    }\n",
              "  </style>\n",
              "\n",
              "      <script>\n",
              "        const buttonEl =\n",
              "          document.querySelector('#df-a67bebfb-350e-4e99-9a88-05e26b7399a0 button.colab-df-convert');\n",
              "        buttonEl.style.display =\n",
              "          google.colab.kernel.accessAllowed ? 'block' : 'none';\n",
              "\n",
              "        async function convertToInteractive(key) {\n",
              "          const element = document.querySelector('#df-a67bebfb-350e-4e99-9a88-05e26b7399a0');\n",
              "          const dataTable =\n",
              "            await google.colab.kernel.invokeFunction('convertToInteractive',\n",
              "                                                     [key], {});\n",
              "          if (!dataTable) return;\n",
              "\n",
              "          const docLinkHtml = 'Like what you see? Visit the ' +\n",
              "            '<a target=\"_blank\" href=https://colab.research.google.com/notebooks/data_table.ipynb>data table notebook</a>'\n",
              "            + ' to learn more about interactive tables.';\n",
              "          element.innerHTML = '';\n",
              "          dataTable['output_type'] = 'display_data';\n",
              "          await google.colab.output.renderOutput(dataTable, element);\n",
              "          const docLink = document.createElement('div');\n",
              "          docLink.innerHTML = docLinkHtml;\n",
              "          element.appendChild(docLink);\n",
              "        }\n",
              "      </script>\n",
              "    </div>\n",
              "  </div>\n",
              "  "
            ]
          },
          "metadata": {},
          "execution_count": 2
        }
      ]
    },
    {
      "cell_type": "markdown",
      "source": [
        "## 2. Check for the null values present in the dataset."
      ],
      "metadata": {
        "id": "A2tifDLmXuF-"
      }
    },
    {
      "cell_type": "code",
      "source": [
        "df.isna().sum()"
      ],
      "metadata": {
        "colab": {
          "base_uri": "https://localhost:8080/"
        },
        "id": "Dx1Ty4gEW2zX",
        "outputId": "9c20a9ba-8d87-496b-8a53-68b872b63b63"
      },
      "execution_count": 4,
      "outputs": [
        {
          "output_type": "execute_result",
          "data": {
            "text/plain": [
              "Make                 0\n",
              "Model                0\n",
              "Nickname             0\n",
              "Car Gender           0\n",
              "Buyer Gender         0\n",
              "Buyer Age            0\n",
              "Buzzword             0\n",
              "Country              0\n",
              "City                 0\n",
              "Dealer Latitude      0\n",
              "Dealer Longitude     0\n",
              "Color                0\n",
              "New Car              0\n",
              "Purchase Date        0\n",
              "Sale Price           0\n",
              "Discount             0\n",
              "Resell Price         0\n",
              "5-yr Depreciation    0\n",
              "Top Speed            0\n",
              "0-60 Time            0\n",
              "dtype: int64"
            ]
          },
          "metadata": {},
          "execution_count": 4
        }
      ]
    },
    {
      "cell_type": "markdown",
      "source": [
        "No null values are present in data."
      ],
      "metadata": {
        "id": "nEsr53XJX-Qb"
      }
    },
    {
      "cell_type": "markdown",
      "source": [
        "## 3. Plot a bar graph of male vs female buyers participated in the sales"
      ],
      "metadata": {
        "id": "b_GB57EMYIOI"
      }
    },
    {
      "cell_type": "code",
      "source": [
        "sns.countplot(data = df, x = 'Buyer Gender', alpha= .3, color= 'green')\n",
        "plt.title(\"Car sales participation\")"
      ],
      "metadata": {
        "colab": {
          "base_uri": "https://localhost:8080/",
          "height": 312
        },
        "id": "MZaYoxAtX3Xo",
        "outputId": "cbe3b92b-a8d2-47e8-d9cd-9694ec6952a3"
      },
      "execution_count": 5,
      "outputs": [
        {
          "output_type": "execute_result",
          "data": {
            "text/plain": [
              "Text(0.5, 1.0, 'Car sales participation')"
            ]
          },
          "metadata": {},
          "execution_count": 5
        },
        {
          "output_type": "display_data",
          "data": {
            "text/plain": [
              "<Figure size 432x288 with 1 Axes>"
            ],
            "image/png": "[encoded data removed]"
          },
          "metadata": {
            "needs_background": "light"
          }
        }
      ]
    },
    {
      "cell_type": "markdown",
      "source": [
        "## 4. Find the top 5 cars based on their sales price."
      ],
      "metadata": {
        "id": "wy-Y0L41R_97"
      }
    },
    {
      "cell_type": "code",
      "source": [
        "df.sort_values(by = 'Sale Price',ascending =False)[['Make','Model','Nickname','Sale Price']][0:5].style.hide_index()\n"
      ],
      "metadata": {
        "id": "EOa_Y2trY3Nq",
        "colab": {
          "base_uri": "https://localhost:8080/",
          "height": 206
        },
        "outputId": "35d00586-3980-47c0-ab0c-9c839f6276a4"
      },
      "execution_count": 19,
      "outputs": [
        {
          "output_type": "execute_result",
          "data": {
            "text/plain": [
              "<pandas.io.formats.style.Styler at 0x7f691c76ba10>"
            ],
            "text/html": [
              "<style type=\"text/css\">\n",
              "</style>\n",
              "<table id=\"T_f2096_\" class=\"dataframe\">\n",
              "  <thead>\n",
              "    <tr>\n",
              "      <th class=\"col_heading level0 col0\" >Make</th>\n",
              "      <th class=\"col_heading level0 col1\" >Model</th>\n",
              "      <th class=\"col_heading level0 col2\" >Nickname</th>\n",
              "      <th class=\"col_heading level0 col3\" >Sale Price</th>\n",
              "    </tr>\n",
              "  </thead>\n",
              "  <tbody>\n",
              "    <tr>\n",
              "      <td id=\"T_f2096_row0_col0\" class=\"data row0 col0\" >Volkswagen</td>\n",
              "      <td id=\"T_f2096_row0_col1\" class=\"data row0 col1\" >Jetta III</td>\n",
              "      <td id=\"T_f2096_row0_col2\" class=\"data row0 col2\" >Rachael</td>\n",
              "      <td id=\"T_f2096_row0_col3\" class=\"data row0 col3\" >99997.650000</td>\n",
              "    </tr>\n",
              "    <tr>\n",
              "      <td id=\"T_f2096_row1_col0\" class=\"data row1 col0\" >Audi</td>\n",
              "      <td id=\"T_f2096_row1_col1\" class=\"data row1 col1\" >A6</td>\n",
              "      <td id=\"T_f2096_row1_col2\" class=\"data row1 col2\" >Thorn</td>\n",
              "      <td id=\"T_f2096_row1_col3\" class=\"data row1 col3\" >99991.910000</td>\n",
              "    </tr>\n",
              "    <tr>\n",
              "      <td id=\"T_f2096_row2_col0\" class=\"data row2 col0\" >Lexus</td>\n",
              "      <td id=\"T_f2096_row2_col1\" class=\"data row2 col1\" >LX</td>\n",
              "      <td id=\"T_f2096_row2_col2\" class=\"data row2 col2\" >Aldin</td>\n",
              "      <td id=\"T_f2096_row2_col3\" class=\"data row2 col3\" >99983.380000</td>\n",
              "    </tr>\n",
              "    <tr>\n",
              "      <td id=\"T_f2096_row3_col0\" class=\"data row3 col0\" >Mazda</td>\n",
              "      <td id=\"T_f2096_row3_col1\" class=\"data row3 col1\" >MX-6</td>\n",
              "      <td id=\"T_f2096_row3_col2\" class=\"data row3 col2\" >Sylvester</td>\n",
              "      <td id=\"T_f2096_row3_col3\" class=\"data row3 col3\" >99978.170000</td>\n",
              "    </tr>\n",
              "    <tr>\n",
              "      <td id=\"T_f2096_row4_col0\" class=\"data row4 col0\" >Lexus</td>\n",
              "      <td id=\"T_f2096_row4_col1\" class=\"data row4 col1\" >ES</td>\n",
              "      <td id=\"T_f2096_row4_col2\" class=\"data row4 col2\" >Brig</td>\n",
              "      <td id=\"T_f2096_row4_col3\" class=\"data row4 col3\" >99973.440000</td>\n",
              "    </tr>\n",
              "  </tbody>\n",
              "</table>\n"
            ]
          },
          "metadata": {},
          "execution_count": 19
        }
      ]
    },
    {
      "cell_type": "markdown",
      "source": [
        "## 5.Find the least 5 cars based on their Resell price."
      ],
      "metadata": {
        "id": "XcFVoxxoR9F5"
      }
    },
    {
      "cell_type": "code",
      "source": [
        "df.sort_values(by ='Resell Price' )[['Make','Model','Nickname','Resell Price']][0:5].style.hide_index()"
      ],
      "metadata": {
        "colab": {
          "base_uri": "https://localhost:8080/",
          "height": 206
        },
        "id": "UzNbZvVMSISd",
        "outputId": "7d3e424d-0fc1-4dd8-aeb5-0cf4db5347e8"
      },
      "execution_count": 21,
      "outputs": [
        {
          "output_type": "execute_result",
          "data": {
            "text/plain": [
              "<pandas.io.formats.style.Styler at 0x7f691cac1d10>"
            ],
            "text/html": [
              "<style type=\"text/css\">\n",
              "</style>\n",
              "<table id=\"T_26810_\" class=\"dataframe\">\n",
              "  <thead>\n",
              "    <tr>\n",
              "      <th class=\"col_heading level0 col0\" >Make</th>\n",
              "      <th class=\"col_heading level0 col1\" >Model</th>\n",
              "      <th class=\"col_heading level0 col2\" >Nickname</th>\n",
              "      <th class=\"col_heading level0 col3\" >Resell Price</th>\n",
              "    </tr>\n",
              "  </thead>\n",
              "  <tbody>\n",
              "    <tr>\n",
              "      <td id=\"T_26810_row0_col0\" class=\"data row0 col0\" >Chevrolet</td>\n",
              "      <td id=\"T_26810_row0_col1\" class=\"data row0 col1\" >1500</td>\n",
              "      <td id=\"T_26810_row0_col2\" class=\"data row0 col2\" >Corenda</td>\n",
              "      <td id=\"T_26810_row0_col3\" class=\"data row0 col3\" >2000.840000</td>\n",
              "    </tr>\n",
              "    <tr>\n",
              "      <td id=\"T_26810_row1_col0\" class=\"data row1 col0\" >GMC</td>\n",
              "      <td id=\"T_26810_row1_col1\" class=\"data row1 col1\" >Savana 1500</td>\n",
              "      <td id=\"T_26810_row1_col2\" class=\"data row1 col2\" >Lark</td>\n",
              "      <td id=\"T_26810_row1_col3\" class=\"data row1 col3\" >2005.440000</td>\n",
              "    </tr>\n",
              "    <tr>\n",
              "      <td id=\"T_26810_row2_col0\" class=\"data row2 col0\" >Jaguar</td>\n",
              "      <td id=\"T_26810_row2_col1\" class=\"data row2 col1\" >XF</td>\n",
              "      <td id=\"T_26810_row2_col2\" class=\"data row2 col2\" >Payton</td>\n",
              "      <td id=\"T_26810_row2_col3\" class=\"data row2 col3\" >2014.090000</td>\n",
              "    </tr>\n",
              "    <tr>\n",
              "      <td id=\"T_26810_row3_col0\" class=\"data row3 col0\" >Mitsubishi</td>\n",
              "      <td id=\"T_26810_row3_col1\" class=\"data row3 col1\" >3000GT</td>\n",
              "      <td id=\"T_26810_row3_col2\" class=\"data row3 col2\" >Thia</td>\n",
              "      <td id=\"T_26810_row3_col3\" class=\"data row3 col3\" >2017.240000</td>\n",
              "    </tr>\n",
              "    <tr>\n",
              "      <td id=\"T_26810_row4_col0\" class=\"data row4 col0\" >Infiniti</td>\n",
              "      <td id=\"T_26810_row4_col1\" class=\"data row4 col1\" >G37</td>\n",
              "      <td id=\"T_26810_row4_col2\" class=\"data row4 col2\" >Sonny</td>\n",
              "      <td id=\"T_26810_row4_col3\" class=\"data row4 col3\" >2017.830000</td>\n",
              "    </tr>\n",
              "  </tbody>\n",
              "</table>\n"
            ]
          },
          "metadata": {},
          "execution_count": 21
        }
      ]
    }
  ]
}